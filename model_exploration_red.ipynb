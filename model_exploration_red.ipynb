{
 "cells": [
  {
   "cell_type": "markdown",
   "metadata": {},
   "source": [
    "Taken from:\n",
    "https://towardsdatascience.com/predicting-wine-quality-with-several-classification-techniques-179038ea6434"
   ]
  },
  {
   "cell_type": "markdown",
   "metadata": {},
   "source": [
    "# Set up"
   ]
  },
  {
   "cell_type": "code",
<<<<<<< HEAD
   "execution_count": 2,
=======
   "execution_count": 1,
>>>>>>> 92b4e39 (updating model exploration notebooks and added excel file for model tracking)
   "metadata": {},
   "outputs": [],
   "source": [
    "#Import Libraries\n",
    "import numpy as np\n",
    "import pandas as pd\n",
    "import matplotlib.pyplot as plt\n",
    "import seaborn as sns\n",
    "import plotly.express as px"
   ]
  },
  {
   "cell_type": "code",
<<<<<<< HEAD
   "execution_count": 3,
=======
   "execution_count": 2,
>>>>>>> 92b4e39 (updating model exploration notebooks and added excel file for model tracking)
   "metadata": {},
   "outputs": [
    {
     "data": {
      "text/html": [
       "<div>\n",
       "<style scoped>\n",
       "    .dataframe tbody tr th:only-of-type {\n",
       "        vertical-align: middle;\n",
       "    }\n",
       "\n",
       "    .dataframe tbody tr th {\n",
       "        vertical-align: top;\n",
       "    }\n",
       "\n",
       "    .dataframe thead th {\n",
       "        text-align: right;\n",
       "    }\n",
       "</style>\n",
       "<table border=\"1\" class=\"dataframe\">\n",
       "  <thead>\n",
       "    <tr style=\"text-align: right;\">\n",
       "      <th></th>\n",
       "      <th>fixed acidity</th>\n",
       "      <th>volatile acidity</th>\n",
       "      <th>citric acid</th>\n",
       "      <th>residual sugar</th>\n",
       "      <th>chlorides</th>\n",
       "      <th>free sulfur dioxide</th>\n",
       "      <th>total sulfur dioxide</th>\n",
       "      <th>density</th>\n",
       "      <th>pH</th>\n",
       "      <th>sulphates</th>\n",
       "      <th>alcohol</th>\n",
       "      <th>quality</th>\n",
       "    </tr>\n",
       "  </thead>\n",
       "  <tbody>\n",
       "    <tr>\n",
       "      <th>0</th>\n",
       "      <td>7.4</td>\n",
       "      <td>0.700</td>\n",
       "      <td>0.00</td>\n",
       "      <td>1.9</td>\n",
       "      <td>0.076</td>\n",
       "      <td>11.0</td>\n",
       "      <td>34.0</td>\n",
       "      <td>0.99780</td>\n",
       "      <td>3.51</td>\n",
       "      <td>0.56</td>\n",
       "      <td>9.4</td>\n",
       "      <td>5</td>\n",
       "    </tr>\n",
       "    <tr>\n",
       "      <th>1</th>\n",
       "      <td>7.8</td>\n",
       "      <td>0.880</td>\n",
       "      <td>0.00</td>\n",
       "      <td>2.6</td>\n",
       "      <td>0.098</td>\n",
       "      <td>25.0</td>\n",
       "      <td>67.0</td>\n",
       "      <td>0.99680</td>\n",
       "      <td>3.20</td>\n",
       "      <td>0.68</td>\n",
       "      <td>9.8</td>\n",
       "      <td>5</td>\n",
       "    </tr>\n",
       "    <tr>\n",
       "      <th>2</th>\n",
       "      <td>7.8</td>\n",
       "      <td>0.760</td>\n",
       "      <td>0.04</td>\n",
       "      <td>2.3</td>\n",
       "      <td>0.092</td>\n",
       "      <td>15.0</td>\n",
       "      <td>54.0</td>\n",
       "      <td>0.99700</td>\n",
       "      <td>3.26</td>\n",
       "      <td>0.65</td>\n",
       "      <td>9.8</td>\n",
       "      <td>5</td>\n",
       "    </tr>\n",
       "    <tr>\n",
       "      <th>3</th>\n",
       "      <td>11.2</td>\n",
       "      <td>0.280</td>\n",
       "      <td>0.56</td>\n",
       "      <td>1.9</td>\n",
       "      <td>0.075</td>\n",
       "      <td>17.0</td>\n",
       "      <td>60.0</td>\n",
       "      <td>0.99800</td>\n",
       "      <td>3.16</td>\n",
       "      <td>0.58</td>\n",
       "      <td>9.8</td>\n",
       "      <td>6</td>\n",
       "    </tr>\n",
       "    <tr>\n",
       "      <th>4</th>\n",
       "      <td>7.4</td>\n",
       "      <td>0.700</td>\n",
       "      <td>0.00</td>\n",
       "      <td>1.9</td>\n",
       "      <td>0.076</td>\n",
       "      <td>11.0</td>\n",
       "      <td>34.0</td>\n",
       "      <td>0.99780</td>\n",
       "      <td>3.51</td>\n",
       "      <td>0.56</td>\n",
       "      <td>9.4</td>\n",
       "      <td>5</td>\n",
       "    </tr>\n",
       "    <tr>\n",
       "      <th>...</th>\n",
       "      <td>...</td>\n",
       "      <td>...</td>\n",
       "      <td>...</td>\n",
       "      <td>...</td>\n",
       "      <td>...</td>\n",
       "      <td>...</td>\n",
       "      <td>...</td>\n",
       "      <td>...</td>\n",
       "      <td>...</td>\n",
       "      <td>...</td>\n",
       "      <td>...</td>\n",
       "      <td>...</td>\n",
       "    </tr>\n",
       "    <tr>\n",
       "      <th>1594</th>\n",
       "      <td>6.2</td>\n",
       "      <td>0.600</td>\n",
       "      <td>0.08</td>\n",
       "      <td>2.0</td>\n",
       "      <td>0.090</td>\n",
       "      <td>32.0</td>\n",
       "      <td>44.0</td>\n",
       "      <td>0.99490</td>\n",
       "      <td>3.45</td>\n",
       "      <td>0.58</td>\n",
       "      <td>10.5</td>\n",
       "      <td>5</td>\n",
       "    </tr>\n",
       "    <tr>\n",
       "      <th>1595</th>\n",
       "      <td>5.9</td>\n",
       "      <td>0.550</td>\n",
       "      <td>0.10</td>\n",
       "      <td>2.2</td>\n",
       "      <td>0.062</td>\n",
       "      <td>39.0</td>\n",
       "      <td>51.0</td>\n",
       "      <td>0.99512</td>\n",
       "      <td>3.52</td>\n",
       "      <td>0.76</td>\n",
       "      <td>11.2</td>\n",
       "      <td>6</td>\n",
       "    </tr>\n",
       "    <tr>\n",
       "      <th>1596</th>\n",
       "      <td>6.3</td>\n",
       "      <td>0.510</td>\n",
       "      <td>0.13</td>\n",
       "      <td>2.3</td>\n",
       "      <td>0.076</td>\n",
       "      <td>29.0</td>\n",
       "      <td>40.0</td>\n",
       "      <td>0.99574</td>\n",
       "      <td>3.42</td>\n",
       "      <td>0.75</td>\n",
       "      <td>11.0</td>\n",
       "      <td>6</td>\n",
       "    </tr>\n",
       "    <tr>\n",
       "      <th>1597</th>\n",
       "      <td>5.9</td>\n",
       "      <td>0.645</td>\n",
       "      <td>0.12</td>\n",
       "      <td>2.0</td>\n",
       "      <td>0.075</td>\n",
       "      <td>32.0</td>\n",
       "      <td>44.0</td>\n",
       "      <td>0.99547</td>\n",
       "      <td>3.57</td>\n",
       "      <td>0.71</td>\n",
       "      <td>10.2</td>\n",
       "      <td>5</td>\n",
       "    </tr>\n",
       "    <tr>\n",
       "      <th>1598</th>\n",
       "      <td>6.0</td>\n",
       "      <td>0.310</td>\n",
       "      <td>0.47</td>\n",
       "      <td>3.6</td>\n",
       "      <td>0.067</td>\n",
       "      <td>18.0</td>\n",
       "      <td>42.0</td>\n",
       "      <td>0.99549</td>\n",
       "      <td>3.39</td>\n",
       "      <td>0.66</td>\n",
       "      <td>11.0</td>\n",
       "      <td>6</td>\n",
       "    </tr>\n",
       "  </tbody>\n",
       "</table>\n",
       "<p>1599 rows × 12 columns</p>\n",
       "</div>"
      ],
      "text/plain": [
       "      fixed acidity  volatile acidity  citric acid  residual sugar  chlorides  \\\n",
       "0               7.4             0.700         0.00             1.9      0.076   \n",
       "1               7.8             0.880         0.00             2.6      0.098   \n",
       "2               7.8             0.760         0.04             2.3      0.092   \n",
       "3              11.2             0.280         0.56             1.9      0.075   \n",
       "4               7.4             0.700         0.00             1.9      0.076   \n",
       "...             ...               ...          ...             ...        ...   \n",
       "1594            6.2             0.600         0.08             2.0      0.090   \n",
       "1595            5.9             0.550         0.10             2.2      0.062   \n",
       "1596            6.3             0.510         0.13             2.3      0.076   \n",
       "1597            5.9             0.645         0.12             2.0      0.075   \n",
       "1598            6.0             0.310         0.47             3.6      0.067   \n",
       "\n",
       "      free sulfur dioxide  total sulfur dioxide  density    pH  sulphates  \\\n",
       "0                    11.0                  34.0  0.99780  3.51       0.56   \n",
       "1                    25.0                  67.0  0.99680  3.20       0.68   \n",
       "2                    15.0                  54.0  0.99700  3.26       0.65   \n",
       "3                    17.0                  60.0  0.99800  3.16       0.58   \n",
       "4                    11.0                  34.0  0.99780  3.51       0.56   \n",
       "...                   ...                   ...      ...   ...        ...   \n",
       "1594                 32.0                  44.0  0.99490  3.45       0.58   \n",
       "1595                 39.0                  51.0  0.99512  3.52       0.76   \n",
       "1596                 29.0                  40.0  0.99574  3.42       0.75   \n",
       "1597                 32.0                  44.0  0.99547  3.57       0.71   \n",
       "1598                 18.0                  42.0  0.99549  3.39       0.66   \n",
       "\n",
       "      alcohol  quality  \n",
       "0         9.4        5  \n",
       "1         9.8        5  \n",
       "2         9.8        5  \n",
       "3         9.8        6  \n",
       "4         9.4        5  \n",
       "...       ...      ...  \n",
       "1594     10.5        5  \n",
       "1595     11.2        6  \n",
       "1596     11.0        6  \n",
       "1597     10.2        5  \n",
       "1598     11.0        6  \n",
       "\n",
       "[1599 rows x 12 columns]"
      ]
     },
<<<<<<< HEAD
     "execution_count": 3,
=======
     "execution_count": 2,
>>>>>>> 92b4e39 (updating model exploration notebooks and added excel file for model tracking)
     "metadata": {},
     "output_type": "execute_result"
    }
   ],
   "source": [
    "# Read in Data\n",
    "df = pd.read_csv(\"Resources/winequality-red.csv\", delimiter=\";\")\n",
    "df"
   ]
  },
  {
   "cell_type": "code",
<<<<<<< HEAD
   "execution_count": 4,
=======
   "execution_count": 3,
>>>>>>> 92b4e39 (updating model exploration notebooks and added excel file for model tracking)
   "metadata": {},
   "outputs": [
    {
     "name": "stdout",
     "output_type": "stream",
     "text": [
      "Rows, columns: (1599, 12)\n"
     ]
    },
    {
     "data": {
      "text/html": [
       "<div>\n",
       "<style scoped>\n",
       "    .dataframe tbody tr th:only-of-type {\n",
       "        vertical-align: middle;\n",
       "    }\n",
       "\n",
       "    .dataframe tbody tr th {\n",
       "        vertical-align: top;\n",
       "    }\n",
       "\n",
       "    .dataframe thead th {\n",
       "        text-align: right;\n",
       "    }\n",
       "</style>\n",
       "<table border=\"1\" class=\"dataframe\">\n",
       "  <thead>\n",
       "    <tr style=\"text-align: right;\">\n",
       "      <th></th>\n",
       "      <th>fixed acidity</th>\n",
       "      <th>volatile acidity</th>\n",
       "      <th>citric acid</th>\n",
       "      <th>residual sugar</th>\n",
       "      <th>chlorides</th>\n",
       "      <th>free sulfur dioxide</th>\n",
       "      <th>total sulfur dioxide</th>\n",
       "      <th>density</th>\n",
       "      <th>pH</th>\n",
       "      <th>sulphates</th>\n",
       "      <th>alcohol</th>\n",
       "      <th>quality</th>\n",
       "    </tr>\n",
       "  </thead>\n",
       "  <tbody>\n",
       "    <tr>\n",
       "      <th>0</th>\n",
       "      <td>7.4</td>\n",
       "      <td>0.70</td>\n",
       "      <td>0.00</td>\n",
       "      <td>1.9</td>\n",
       "      <td>0.076</td>\n",
       "      <td>11.0</td>\n",
       "      <td>34.0</td>\n",
       "      <td>0.9978</td>\n",
       "      <td>3.51</td>\n",
       "      <td>0.56</td>\n",
       "      <td>9.4</td>\n",
       "      <td>5</td>\n",
       "    </tr>\n",
       "    <tr>\n",
       "      <th>1</th>\n",
       "      <td>7.8</td>\n",
       "      <td>0.88</td>\n",
       "      <td>0.00</td>\n",
       "      <td>2.6</td>\n",
       "      <td>0.098</td>\n",
       "      <td>25.0</td>\n",
       "      <td>67.0</td>\n",
       "      <td>0.9968</td>\n",
       "      <td>3.20</td>\n",
       "      <td>0.68</td>\n",
       "      <td>9.8</td>\n",
       "      <td>5</td>\n",
       "    </tr>\n",
       "    <tr>\n",
       "      <th>2</th>\n",
       "      <td>7.8</td>\n",
       "      <td>0.76</td>\n",
       "      <td>0.04</td>\n",
       "      <td>2.3</td>\n",
       "      <td>0.092</td>\n",
       "      <td>15.0</td>\n",
       "      <td>54.0</td>\n",
       "      <td>0.9970</td>\n",
       "      <td>3.26</td>\n",
       "      <td>0.65</td>\n",
       "      <td>9.8</td>\n",
       "      <td>5</td>\n",
       "    </tr>\n",
       "    <tr>\n",
       "      <th>3</th>\n",
       "      <td>11.2</td>\n",
       "      <td>0.28</td>\n",
       "      <td>0.56</td>\n",
       "      <td>1.9</td>\n",
       "      <td>0.075</td>\n",
       "      <td>17.0</td>\n",
       "      <td>60.0</td>\n",
       "      <td>0.9980</td>\n",
       "      <td>3.16</td>\n",
       "      <td>0.58</td>\n",
       "      <td>9.8</td>\n",
       "      <td>6</td>\n",
       "    </tr>\n",
       "    <tr>\n",
       "      <th>4</th>\n",
       "      <td>7.4</td>\n",
       "      <td>0.70</td>\n",
       "      <td>0.00</td>\n",
       "      <td>1.9</td>\n",
       "      <td>0.076</td>\n",
       "      <td>11.0</td>\n",
       "      <td>34.0</td>\n",
       "      <td>0.9978</td>\n",
       "      <td>3.51</td>\n",
       "      <td>0.56</td>\n",
       "      <td>9.4</td>\n",
       "      <td>5</td>\n",
       "    </tr>\n",
       "  </tbody>\n",
       "</table>\n",
       "</div>"
      ],
      "text/plain": [
       "   fixed acidity  volatile acidity  citric acid  residual sugar  chlorides  \\\n",
       "0            7.4              0.70         0.00             1.9      0.076   \n",
       "1            7.8              0.88         0.00             2.6      0.098   \n",
       "2            7.8              0.76         0.04             2.3      0.092   \n",
       "3           11.2              0.28         0.56             1.9      0.075   \n",
       "4            7.4              0.70         0.00             1.9      0.076   \n",
       "\n",
       "   free sulfur dioxide  total sulfur dioxide  density    pH  sulphates  \\\n",
       "0                 11.0                  34.0   0.9978  3.51       0.56   \n",
       "1                 25.0                  67.0   0.9968  3.20       0.68   \n",
       "2                 15.0                  54.0   0.9970  3.26       0.65   \n",
       "3                 17.0                  60.0   0.9980  3.16       0.58   \n",
       "4                 11.0                  34.0   0.9978  3.51       0.56   \n",
       "\n",
       "   alcohol  quality  \n",
       "0      9.4        5  \n",
       "1      9.8        5  \n",
       "2      9.8        5  \n",
       "3      9.8        6  \n",
       "4      9.4        5  "
      ]
     },
<<<<<<< HEAD
     "execution_count": 4,
=======
     "execution_count": 3,
>>>>>>> 92b4e39 (updating model exploration notebooks and added excel file for model tracking)
     "metadata": {},
     "output_type": "execute_result"
    }
   ],
   "source": [
    "# See the number of rows and columns\n",
    "print(\"Rows, columns: \" + str(df.shape))\n",
    "\n",
    "# See the first five rows of the dataset\n",
    "df.head()"
   ]
  },
  {
   "cell_type": "code",
<<<<<<< HEAD
   "execution_count": 5,
=======
   "execution_count": 4,
>>>>>>> 92b4e39 (updating model exploration notebooks and added excel file for model tracking)
   "metadata": {},
   "outputs": [
    {
     "name": "stdout",
     "output_type": "stream",
     "text": [
      "fixed acidity           0\n",
      "volatile acidity        0\n",
      "citric acid             0\n",
      "residual sugar          0\n",
      "chlorides               0\n",
      "free sulfur dioxide     0\n",
      "total sulfur dioxide    0\n",
      "density                 0\n",
      "pH                      0\n",
      "sulphates               0\n",
      "alcohol                 0\n",
      "quality                 0\n",
      "dtype: int64\n"
     ]
    }
   ],
   "source": [
    "# Missing Values\n",
    "print(df.isna().sum())"
   ]
  },
  {
   "cell_type": "markdown",
   "metadata": {},
   "source": [
    "# Exploring Variables"
   ]
  },
  {
   "cell_type": "code",
<<<<<<< HEAD
   "execution_count": 6,
=======
   "execution_count": 5,
>>>>>>> 92b4e39 (updating model exploration notebooks and added excel file for model tracking)
   "metadata": {},
   "outputs": [
    {
     "data": {
      "application/vnd.plotly.v1+json": {
       "config": {
        "plotlyServerURL": "https://plot.ly"
       },
       "data": [
        {
         "alignmentgroup": "True",
         "bingroup": "x",
         "hovertemplate": "quality=%{x}<br>count=%{y}<extra></extra>",
         "legendgroup": "",
         "marker": {
          "color": "#636efa",
          "pattern": {
           "shape": ""
          }
         },
         "name": "",
         "offsetgroup": "",
         "orientation": "v",
         "showlegend": false,
         "type": "histogram",
         "x": [
          5,
          5,
          5,
          6,
          5,
          5,
          5,
          7,
          7,
          5,
          5,
          5,
          5,
          5,
          5,
          5,
          7,
          5,
          4,
          6,
          6,
          5,
          5,
          5,
          6,
          5,
          5,
          5,
          5,
          6,
          5,
          6,
          5,
          6,
          5,
          6,
          6,
          7,
          4,
          5,
          5,
          4,
          6,
          5,
          5,
          4,
          5,
          5,
          5,
          5,
          5,
          6,
          6,
          5,
          6,
          5,
          5,
          5,
          5,
          6,
          5,
          5,
          7,
          5,
          5,
          5,
          5,
          5,
          5,
          6,
          6,
          5,
          5,
          4,
          5,
          5,
          5,
          6,
          5,
          4,
          5,
          5,
          5,
          5,
          6,
          5,
          6,
          5,
          5,
          5,
          5,
          6,
          5,
          5,
          4,
          6,
          5,
          5,
          5,
          6,
          6,
          6,
          6,
          5,
          5,
          5,
          5,
          5,
          6,
          5,
          5,
          5,
          5,
          6,
          5,
          6,
          6,
          6,
          6,
          6,
          5,
          6,
          5,
          5,
          5,
          5,
          5,
          5,
          7,
          5,
          5,
          5,
          5,
          6,
          6,
          5,
          5,
          5,
          5,
          5,
          5,
          5,
          6,
          5,
          6,
          5,
          5,
          5,
          6,
          6,
          6,
          4,
          5,
          5,
          5,
          5,
          5,
          5,
          5,
          6,
          5,
          4,
          6,
          5,
          5,
          5,
          5,
          4,
          6,
          5,
          4,
          6,
          6,
          6,
          5,
          5,
          5,
          6,
          5,
          5,
          5,
          5,
          5,
          5,
          6,
          5,
          5,
          5,
          5,
          5,
          5,
          6,
          5,
          5,
          5,
          5,
          5,
          6,
          7,
          4,
          7,
          5,
          5,
          5,
          6,
          7,
          7,
          5,
          5,
          7,
          6,
          6,
          6,
          5,
          6,
          5,
          5,
          5,
          5,
          5,
          6,
          5,
          5,
          6,
          4,
          6,
          6,
          5,
          6,
          5,
          7,
          6,
          6,
          5,
          6,
          6,
          6,
          6,
          6,
          6,
          5,
          6,
          6,
          7,
          7,
          6,
          5,
          5,
          6,
          6,
          6,
          6,
          5,
          5,
          6,
          5,
          5,
          5,
          5,
          7,
          5,
          4,
          5,
          5,
          5,
          7,
          4,
          8,
          6,
          6,
          6,
          6,
          5,
          5,
          5,
          6,
          6,
          6,
          8,
          7,
          6,
          7,
          5,
          7,
          5,
          5,
          6,
          6,
          7,
          5,
          7,
          5,
          6,
          6,
          6,
          5,
          5,
          5,
          5,
          5,
          6,
          6,
          5,
          5,
          5,
          6,
          5,
          6,
          6,
          6,
          6,
          6,
          6,
          5,
          5,
          6,
          5,
          6,
          7,
          6,
          7,
          5,
          5,
          6,
          6,
          6,
          7,
          5,
          6,
          5,
          6,
          6,
          6,
          5,
          7,
          7,
          6,
          5,
          6,
          7,
          6,
          6,
          6,
          6,
          6,
          5,
          7,
          6,
          6,
          6,
          6,
          6,
          5,
          5,
          6,
          6,
          5,
          7,
          7,
          6,
          5,
          6,
          5,
          5,
          7,
          6,
          7,
          5,
          5,
          7,
          5,
          6,
          6,
          5,
          6,
          7,
          6,
          7,
          6,
          6,
          6,
          6,
          6,
          6,
          5,
          6,
          6,
          6,
          6,
          7,
          8,
          6,
          5,
          5,
          5,
          7,
          5,
          6,
          6,
          5,
          5,
          6,
          6,
          6,
          5,
          6,
          6,
          7,
          6,
          4,
          6,
          5,
          5,
          7,
          5,
          5,
          6,
          5,
          6,
          5,
          7,
          7,
          5,
          7,
          5,
          7,
          6,
          6,
          5,
          6,
          7,
          5,
          6,
          5,
          6,
          5,
          6,
          6,
          6,
          5,
          8,
          6,
          7,
          7,
          7,
          6,
          5,
          5,
          6,
          6,
          6,
          6,
          6,
          7,
          5,
          8,
          5,
          5,
          7,
          3,
          6,
          5,
          5,
          5,
          6,
          5,
          6,
          6,
          6,
          5,
          5,
          6,
          6,
          5,
          6,
          5,
          5,
          6,
          5,
          6,
          5,
          8,
          5,
          5,
          6,
          5,
          5,
          6,
          7,
          6,
          6,
          7,
          7,
          6,
          6,
          8,
          6,
          5,
          8,
          6,
          6,
          7,
          7,
          7,
          7,
          7,
          7,
          6,
          6,
          7,
          5,
          6,
          6,
          7,
          7,
          5,
          6,
          3,
          6,
          5,
          6,
          5,
          5,
          5,
          5,
          5,
          5,
          6,
          6,
          5,
          6,
          5,
          5,
          6,
          6,
          6,
          5,
          6,
          7,
          5,
          5,
          6,
          5,
          6,
          6,
          5,
          6,
          6,
          6,
          6,
          6,
          6,
          6,
          5,
          5,
          5,
          6,
          5,
          6,
          6,
          5,
          5,
          5,
          6,
          6,
          5,
          6,
          6,
          6,
          6,
          6,
          6,
          5,
          4,
          6,
          6,
          4,
          5,
          5,
          6,
          5,
          5,
          5,
          7,
          7,
          6,
          7,
          5,
          8,
          7,
          5,
          6,
          5,
          5,
          5,
          5,
          6,
          6,
          6,
          6,
          4,
          6,
          5,
          6,
          6,
          6,
          7,
          6,
          6,
          6,
          5,
          5,
          6,
          5,
          6,
          5,
          5,
          6,
          5,
          5,
          5,
          5,
          5,
          6,
          5,
          5,
          5,
          5,
          6,
          5,
          6,
          5,
          6,
          4,
          5,
          5,
          5,
          5,
          7,
          6,
          5,
          5,
          5,
          5,
          5,
          7,
          5,
          4,
          7,
          6,
          5,
          5,
          5,
          6,
          5,
          5,
          5,
          7,
          6,
          4,
          6,
          5,
          6,
          6,
          5,
          5,
          6,
          6,
          5,
          6,
          5,
          5,
          5,
          5,
          6,
          5,
          6,
          5,
          5,
          5,
          5,
          6,
          5,
          5,
          5,
          5,
          5,
          5,
          5,
          5,
          3,
          5,
          5,
          5,
          5,
          6,
          6,
          6,
          5,
          6,
          6,
          6,
          6,
          4,
          4,
          5,
          5,
          5,
          6,
          6,
          5,
          5,
          5,
          5,
          5,
          6,
          5,
          5,
          5,
          5,
          5,
          5,
          5,
          5,
          4,
          5,
          6,
          5,
          5,
          6,
          5,
          5,
          5,
          5,
          5,
          5,
          5,
          6,
          5,
          5,
          6,
          5,
          5,
          5,
          5,
          6,
          6,
          5,
          6,
          6,
          5,
          5,
          5,
          5,
          6,
          6,
          6,
          5,
          5,
          5,
          5,
          5,
          6,
          5,
          6,
          6,
          5,
          5,
          6,
          5,
          6,
          5,
          5,
          6,
          6,
          5,
          6,
          6,
          5,
          5,
          6,
          5,
          5,
          5,
          5,
          5,
          5,
          6,
          6,
          5,
          6,
          5,
          6,
          5,
          6,
          5,
          5,
          7,
          6,
          6,
          5,
          5,
          7,
          6,
          6,
          7,
          7,
          7,
          5,
          6,
          5,
          6,
          5,
          4,
          6,
          5,
          6,
          6,
          5,
          5,
          5,
          7,
          5,
          5,
          5,
          5,
          7,
          5,
          8,
          6,
          4,
          6,
          3,
          4,
          5,
          5,
          7,
          7,
          7,
          5,
          7,
          5,
          6,
          5,
          6,
          5,
          5,
          6,
          5,
          5,
          5,
          5,
          5,
          6,
          6,
          7,
          6,
          7,
          7,
          6,
          5,
          6,
          5,
          5,
          5,
          5,
          6,
          6,
          6,
          6,
          6,
          5,
          4,
          7,
          7,
          7,
          4,
          6,
          6,
          5,
          5,
          6,
          6,
          5,
          6,
          5,
          6,
          7,
          6,
          5,
          5,
          5,
          6,
          5,
          6,
          6,
          7,
          6,
          7,
          3,
          5,
          7,
          7,
          7,
          7,
          5,
          5,
          6,
          6,
          6,
          6,
          6,
          6,
          7,
          6,
          6,
          5,
          6,
          6,
          6,
          5,
          6,
          6,
          6,
          5,
          7,
          6,
          4,
          5,
          7,
          5,
          5,
          6,
          5,
          5,
          6,
          6,
          4,
          7,
          5,
          7,
          7,
          7,
          7,
          7,
          7,
          7,
          7,
          7,
          7,
          7,
          7,
          7,
          7,
          6,
          5,
          6,
          6,
          7,
          5,
          6,
          5,
          5,
          6,
          6,
          6,
          7,
          5,
          6,
          5,
          6,
          6,
          7,
          5,
          7,
          5,
          5,
          5,
          7,
          5,
          6,
          5,
          6,
          6,
          5,
          6,
          7,
          5,
          5,
          6,
          5,
          5,
          6,
          5,
          5,
          6,
          7,
          7,
          6,
          6,
          7,
          7,
          7,
          7,
          5,
          7,
          7,
          7,
          7,
          5,
          7,
          6,
          5,
          6,
          6,
          6,
          7,
          6,
          6,
          5,
          6,
          6,
          5,
          6,
          7,
          6,
          6,
          5,
          6,
          7,
          7,
          7,
          5,
          6,
          6,
          7,
          7,
          5,
          7,
          6,
          5,
          6,
          6,
          7,
          6,
          6,
          6,
          5,
          6,
          6,
          5,
          5,
          5,
          7,
          6,
          6,
          7,
          5,
          7,
          7,
          6,
          8,
          6,
          6,
          6,
          6,
          7,
          7,
          7,
          5,
          7,
          5,
          6,
          6,
          5,
          7,
          6,
          5,
          5,
          7,
          6,
          7,
          6,
          6,
          6,
          5,
          7,
          6,
          7,
          7,
          8,
          6,
          6,
          7,
          6,
          5,
          6,
          5,
          7,
          5,
          6,
          6,
          6,
          6,
          6,
          5,
          6,
          7,
          5,
          6,
          6,
          7,
          6,
          6,
          6,
          6,
          6,
          6,
          6,
          5,
          8,
          6,
          6,
          6,
          4,
          7,
          6,
          6,
          5,
          6,
          6,
          5,
          7,
          7,
          7,
          6,
          6,
          6,
          5,
          6,
          6,
          6,
          6,
          6,
          5,
          6,
          6,
          7,
          6,
          6,
          7,
          6,
          5,
          6,
          6,
          5,
          7,
          7,
          6,
          5,
          7,
          6,
          7,
          5,
          5,
          5,
          5,
          7,
          6,
          6,
          6,
          6,
          6,
          6,
          6,
          6,
          4,
          7,
          5,
          6,
          6,
          5,
          6,
          5,
          5,
          6,
          5,
          6,
          5,
          4,
          6,
          5,
          7,
          5,
          6,
          6,
          6,
          6,
          6,
          6,
          6,
          7,
          8,
          5,
          7,
          7,
          7,
          5,
          7,
          7,
          6,
          5,
          6,
          6,
          6,
          6,
          6,
          6,
          6,
          6,
          6,
          6,
          6,
          6,
          6,
          5,
          5,
          5,
          7,
          5,
          6,
          5,
          5,
          4,
          6,
          4,
          6,
          6,
          4,
          4,
          5,
          5,
          6,
          5,
          6,
          5,
          5,
          5,
          6,
          6,
          6,
          5,
          5,
          5,
          5,
          5,
          5,
          6,
          6,
          6,
          5,
          4,
          5,
          4,
          6,
          6,
          6,
          6,
          6,
          8,
          6,
          6,
          5,
          5,
          6,
          6,
          4,
          6,
          6,
          7,
          6,
          6,
          6,
          6,
          5,
          5,
          6,
          5,
          5,
          5,
          5,
          6,
          6,
          4,
          6,
          5,
          5,
          6,
          6,
          3,
          6,
          6,
          6,
          5,
          5,
          5,
          5,
          4,
          5,
          5,
          5,
          6,
          5,
          6,
          6,
          6,
          6,
          6,
          6,
          6,
          5,
          6,
          5,
          7,
          6,
          6,
          6,
          6,
          5,
          6,
          6,
          5,
          6,
          5,
          5,
          6,
          5,
          5,
          5,
          6,
          6,
          6,
          6,
          6,
          5,
          6,
          5,
          5,
          5,
          5,
          5,
          6,
          5,
          5,
          5,
          5,
          5,
          6,
          5,
          6,
          5,
          5,
          6,
          4,
          6,
          5,
          5,
          6,
          6,
          4,
          5,
          6,
          5,
          5,
          3,
          5,
          5,
          6,
          6,
          6,
          6,
          5,
          5,
          5,
          5,
          5,
          5,
          5,
          5,
          5,
          6,
          5,
          5,
          5,
          5,
          6,
          5,
          5,
          7,
          6,
          5,
          5,
          6,
          8,
          6,
          7,
          6,
          6,
          7,
          6,
          6,
          6,
          6,
          5,
          5,
          5,
          5,
          7,
          5,
          5,
          5,
          5,
          6,
          4,
          6,
          6,
          6,
          5,
          5,
          5,
          5,
          6,
          6,
          7,
          6,
          6,
          5,
          5,
          5,
          6,
          7,
          6,
          5,
          5,
          6,
          6,
          5,
          5,
          5,
          8,
          7,
          7,
          7,
          5,
          6,
          6,
          6,
          5,
          5,
          7,
          6,
          4,
          6,
          6,
          5,
          5,
          7,
          4,
          7,
          3,
          5,
          5,
          6,
          5,
          5,
          7,
          5,
          7,
          3,
          5,
          4,
          5,
          4,
          5,
          4,
          5,
          5,
          5,
          5,
          6,
          6,
          5,
          5,
          5,
          7,
          6,
          5,
          6,
          6,
          6,
          5,
          5,
          5,
          6,
          6,
          3,
          6,
          6,
          6,
          5,
          6,
          5,
          6,
          6,
          6,
          6,
          5,
          6,
          5,
          5,
          6,
          4,
          5,
          5,
          6,
          5,
          6,
          6,
          6,
          6,
          6,
          5,
          6,
          5,
          7,
          6,
          6,
          6,
          5,
          5,
          6,
          7,
          6,
          6,
          7,
          6,
          5,
          5,
          5,
          8,
          5,
          5,
          6,
          5,
          6,
          7,
          5,
          6,
          5,
          5,
          5,
          5,
          5,
          5,
          5,
          6,
          6,
          5,
          5,
          6,
          6,
          6,
          5,
          6,
          6,
          6,
          6,
          6,
          6,
          5,
          6,
          5,
          5,
          5,
          7,
          6,
          6,
          6,
          6,
          5,
          6,
          6,
          6,
          6,
          5,
          6,
          6,
          5,
          6
         ],
         "xaxis": "x",
         "yaxis": "y"
        }
       ],
       "layout": {
        "barmode": "relative",
        "legend": {
         "tracegroupgap": 0
        },
        "margin": {
         "t": 60
        },
        "template": {
         "data": {
          "bar": [
           {
            "error_x": {
             "color": "#2a3f5f"
            },
            "error_y": {
             "color": "#2a3f5f"
            },
            "marker": {
             "line": {
              "color": "#E5ECF6",
              "width": 0.5
             },
             "pattern": {
              "fillmode": "overlay",
              "size": 10,
              "solidity": 0.2
             }
            },
            "type": "bar"
           }
          ],
          "barpolar": [
           {
            "marker": {
             "line": {
              "color": "#E5ECF6",
              "width": 0.5
             },
             "pattern": {
              "fillmode": "overlay",
              "size": 10,
              "solidity": 0.2
             }
            },
            "type": "barpolar"
           }
          ],
          "carpet": [
           {
            "aaxis": {
             "endlinecolor": "#2a3f5f",
             "gridcolor": "white",
             "linecolor": "white",
             "minorgridcolor": "white",
             "startlinecolor": "#2a3f5f"
            },
            "baxis": {
             "endlinecolor": "#2a3f5f",
             "gridcolor": "white",
             "linecolor": "white",
             "minorgridcolor": "white",
             "startlinecolor": "#2a3f5f"
            },
            "type": "carpet"
           }
          ],
          "choropleth": [
           {
            "colorbar": {
             "outlinewidth": 0,
             "ticks": ""
            },
            "type": "choropleth"
           }
          ],
          "contour": [
           {
            "colorbar": {
             "outlinewidth": 0,
             "ticks": ""
            },
            "colorscale": [
             [
              0,
              "#0d0887"
             ],
             [
              0.1111111111111111,
              "#46039f"
             ],
             [
              0.2222222222222222,
              "#7201a8"
             ],
             [
              0.3333333333333333,
              "#9c179e"
             ],
             [
              0.4444444444444444,
              "#bd3786"
             ],
             [
              0.5555555555555556,
              "#d8576b"
             ],
             [
              0.6666666666666666,
              "#ed7953"
             ],
             [
              0.7777777777777778,
              "#fb9f3a"
             ],
             [
              0.8888888888888888,
              "#fdca26"
             ],
             [
              1,
              "#f0f921"
             ]
            ],
            "type": "contour"
           }
          ],
          "contourcarpet": [
           {
            "colorbar": {
             "outlinewidth": 0,
             "ticks": ""
            },
            "type": "contourcarpet"
           }
          ],
          "heatmap": [
           {
            "colorbar": {
             "outlinewidth": 0,
             "ticks": ""
            },
            "colorscale": [
             [
              0,
              "#0d0887"
             ],
             [
              0.1111111111111111,
              "#46039f"
             ],
             [
              0.2222222222222222,
              "#7201a8"
             ],
             [
              0.3333333333333333,
              "#9c179e"
             ],
             [
              0.4444444444444444,
              "#bd3786"
             ],
             [
              0.5555555555555556,
              "#d8576b"
             ],
             [
              0.6666666666666666,
              "#ed7953"
             ],
             [
              0.7777777777777778,
              "#fb9f3a"
             ],
             [
              0.8888888888888888,
              "#fdca26"
             ],
             [
              1,
              "#f0f921"
             ]
            ],
            "type": "heatmap"
           }
          ],
          "heatmapgl": [
           {
            "colorbar": {
             "outlinewidth": 0,
             "ticks": ""
            },
            "colorscale": [
             [
              0,
              "#0d0887"
             ],
             [
              0.1111111111111111,
              "#46039f"
             ],
             [
              0.2222222222222222,
              "#7201a8"
             ],
             [
              0.3333333333333333,
              "#9c179e"
             ],
             [
              0.4444444444444444,
              "#bd3786"
             ],
             [
              0.5555555555555556,
              "#d8576b"
             ],
             [
              0.6666666666666666,
              "#ed7953"
             ],
             [
              0.7777777777777778,
              "#fb9f3a"
             ],
             [
              0.8888888888888888,
              "#fdca26"
             ],
             [
              1,
              "#f0f921"
             ]
            ],
            "type": "heatmapgl"
           }
          ],
          "histogram": [
           {
            "marker": {
             "pattern": {
              "fillmode": "overlay",
              "size": 10,
              "solidity": 0.2
             }
            },
            "type": "histogram"
           }
          ],
          "histogram2d": [
           {
            "colorbar": {
             "outlinewidth": 0,
             "ticks": ""
            },
            "colorscale": [
             [
              0,
              "#0d0887"
             ],
             [
              0.1111111111111111,
              "#46039f"
             ],
             [
              0.2222222222222222,
              "#7201a8"
             ],
             [
              0.3333333333333333,
              "#9c179e"
             ],
             [
              0.4444444444444444,
              "#bd3786"
             ],
             [
              0.5555555555555556,
              "#d8576b"
             ],
             [
              0.6666666666666666,
              "#ed7953"
             ],
             [
              0.7777777777777778,
              "#fb9f3a"
             ],
             [
              0.8888888888888888,
              "#fdca26"
             ],
             [
              1,
              "#f0f921"
             ]
            ],
            "type": "histogram2d"
           }
          ],
          "histogram2dcontour": [
           {
            "colorbar": {
             "outlinewidth": 0,
             "ticks": ""
            },
            "colorscale": [
             [
              0,
              "#0d0887"
             ],
             [
              0.1111111111111111,
              "#46039f"
             ],
             [
              0.2222222222222222,
              "#7201a8"
             ],
             [
              0.3333333333333333,
              "#9c179e"
             ],
             [
              0.4444444444444444,
              "#bd3786"
             ],
             [
              0.5555555555555556,
              "#d8576b"
             ],
             [
              0.6666666666666666,
              "#ed7953"
             ],
             [
              0.7777777777777778,
              "#fb9f3a"
             ],
             [
              0.8888888888888888,
              "#fdca26"
             ],
             [
              1,
              "#f0f921"
             ]
            ],
            "type": "histogram2dcontour"
           }
          ],
          "mesh3d": [
           {
            "colorbar": {
             "outlinewidth": 0,
             "ticks": ""
            },
            "type": "mesh3d"
           }
          ],
          "parcoords": [
           {
            "line": {
             "colorbar": {
              "outlinewidth": 0,
              "ticks": ""
             }
            },
            "type": "parcoords"
           }
          ],
          "pie": [
           {
            "automargin": true,
            "type": "pie"
           }
          ],
          "scatter": [
           {
            "marker": {
             "colorbar": {
              "outlinewidth": 0,
              "ticks": ""
             }
            },
            "type": "scatter"
           }
          ],
          "scatter3d": [
           {
            "line": {
             "colorbar": {
              "outlinewidth": 0,
              "ticks": ""
             }
            },
            "marker": {
             "colorbar": {
              "outlinewidth": 0,
              "ticks": ""
             }
            },
            "type": "scatter3d"
           }
          ],
          "scattercarpet": [
           {
            "marker": {
             "colorbar": {
              "outlinewidth": 0,
              "ticks": ""
             }
            },
            "type": "scattercarpet"
           }
          ],
          "scattergeo": [
           {
            "marker": {
             "colorbar": {
              "outlinewidth": 0,
              "ticks": ""
             }
            },
            "type": "scattergeo"
           }
          ],
          "scattergl": [
           {
            "marker": {
             "colorbar": {
              "outlinewidth": 0,
              "ticks": ""
             }
            },
            "type": "scattergl"
           }
          ],
          "scattermapbox": [
           {
            "marker": {
             "colorbar": {
              "outlinewidth": 0,
              "ticks": ""
             }
            },
            "type": "scattermapbox"
           }
          ],
          "scatterpolar": [
           {
            "marker": {
             "colorbar": {
              "outlinewidth": 0,
              "ticks": ""
             }
            },
            "type": "scatterpolar"
           }
          ],
          "scatterpolargl": [
           {
            "marker": {
             "colorbar": {
              "outlinewidth": 0,
              "ticks": ""
             }
            },
            "type": "scatterpolargl"
           }
          ],
          "scatterternary": [
           {
            "marker": {
             "colorbar": {
              "outlinewidth": 0,
              "ticks": ""
             }
            },
            "type": "scatterternary"
           }
          ],
          "surface": [
           {
            "colorbar": {
             "outlinewidth": 0,
             "ticks": ""
            },
            "colorscale": [
             [
              0,
              "#0d0887"
             ],
             [
              0.1111111111111111,
              "#46039f"
             ],
             [
              0.2222222222222222,
              "#7201a8"
             ],
             [
              0.3333333333333333,
              "#9c179e"
             ],
             [
              0.4444444444444444,
              "#bd3786"
             ],
             [
              0.5555555555555556,
              "#d8576b"
             ],
             [
              0.6666666666666666,
              "#ed7953"
             ],
             [
              0.7777777777777778,
              "#fb9f3a"
             ],
             [
              0.8888888888888888,
              "#fdca26"
             ],
             [
              1,
              "#f0f921"
             ]
            ],
            "type": "surface"
           }
          ],
          "table": [
           {
            "cells": {
             "fill": {
              "color": "#EBF0F8"
             },
             "line": {
              "color": "white"
             }
            },
            "header": {
             "fill": {
              "color": "#C8D4E3"
             },
             "line": {
              "color": "white"
             }
            },
            "type": "table"
           }
          ]
         },
         "layout": {
          "annotationdefaults": {
           "arrowcolor": "#2a3f5f",
           "arrowhead": 0,
           "arrowwidth": 1
          },
          "autotypenumbers": "strict",
          "coloraxis": {
           "colorbar": {
            "outlinewidth": 0,
            "ticks": ""
           }
          },
          "colorscale": {
           "diverging": [
            [
             0,
             "#8e0152"
            ],
            [
             0.1,
             "#c51b7d"
            ],
            [
             0.2,
             "#de77ae"
            ],
            [
             0.3,
             "#f1b6da"
            ],
            [
             0.4,
             "#fde0ef"
            ],
            [
             0.5,
             "#f7f7f7"
            ],
            [
             0.6,
             "#e6f5d0"
            ],
            [
             0.7,
             "#b8e186"
            ],
            [
             0.8,
             "#7fbc41"
            ],
            [
             0.9,
             "#4d9221"
            ],
            [
             1,
             "#276419"
            ]
           ],
           "sequential": [
            [
             0,
             "#0d0887"
            ],
            [
             0.1111111111111111,
             "#46039f"
            ],
            [
             0.2222222222222222,
             "#7201a8"
            ],
            [
             0.3333333333333333,
             "#9c179e"
            ],
            [
             0.4444444444444444,
             "#bd3786"
            ],
            [
             0.5555555555555556,
             "#d8576b"
            ],
            [
             0.6666666666666666,
             "#ed7953"
            ],
            [
             0.7777777777777778,
             "#fb9f3a"
            ],
            [
             0.8888888888888888,
             "#fdca26"
            ],
            [
             1,
             "#f0f921"
            ]
           ],
           "sequentialminus": [
            [
             0,
             "#0d0887"
            ],
            [
             0.1111111111111111,
             "#46039f"
            ],
            [
             0.2222222222222222,
             "#7201a8"
            ],
            [
             0.3333333333333333,
             "#9c179e"
            ],
            [
             0.4444444444444444,
             "#bd3786"
            ],
            [
             0.5555555555555556,
             "#d8576b"
            ],
            [
             0.6666666666666666,
             "#ed7953"
            ],
            [
             0.7777777777777778,
             "#fb9f3a"
            ],
            [
             0.8888888888888888,
             "#fdca26"
            ],
            [
             1,
             "#f0f921"
            ]
           ]
          },
          "colorway": [
           "#636efa",
           "#EF553B",
           "#00cc96",
           "#ab63fa",
           "#FFA15A",
           "#19d3f3",
           "#FF6692",
           "#B6E880",
           "#FF97FF",
           "#FECB52"
          ],
          "font": {
           "color": "#2a3f5f"
          },
          "geo": {
           "bgcolor": "white",
           "lakecolor": "white",
           "landcolor": "#E5ECF6",
           "showlakes": true,
           "showland": true,
           "subunitcolor": "white"
          },
          "hoverlabel": {
           "align": "left"
          },
          "hovermode": "closest",
          "mapbox": {
           "style": "light"
          },
          "paper_bgcolor": "white",
          "plot_bgcolor": "#E5ECF6",
          "polar": {
           "angularaxis": {
            "gridcolor": "white",
            "linecolor": "white",
            "ticks": ""
           },
           "bgcolor": "#E5ECF6",
           "radialaxis": {
            "gridcolor": "white",
            "linecolor": "white",
            "ticks": ""
           }
          },
          "scene": {
           "xaxis": {
            "backgroundcolor": "#E5ECF6",
            "gridcolor": "white",
            "gridwidth": 2,
            "linecolor": "white",
            "showbackground": true,
            "ticks": "",
            "zerolinecolor": "white"
           },
           "yaxis": {
            "backgroundcolor": "#E5ECF6",
            "gridcolor": "white",
            "gridwidth": 2,
            "linecolor": "white",
            "showbackground": true,
            "ticks": "",
            "zerolinecolor": "white"
           },
           "zaxis": {
            "backgroundcolor": "#E5ECF6",
            "gridcolor": "white",
            "gridwidth": 2,
            "linecolor": "white",
            "showbackground": true,
            "ticks": "",
            "zerolinecolor": "white"
           }
          },
          "shapedefaults": {
           "line": {
            "color": "#2a3f5f"
           }
          },
          "ternary": {
           "aaxis": {
            "gridcolor": "white",
            "linecolor": "white",
            "ticks": ""
           },
           "baxis": {
            "gridcolor": "white",
            "linecolor": "white",
            "ticks": ""
           },
           "bgcolor": "#E5ECF6",
           "caxis": {
            "gridcolor": "white",
            "linecolor": "white",
            "ticks": ""
           }
          },
          "title": {
           "x": 0.05
          },
          "xaxis": {
           "automargin": true,
           "gridcolor": "white",
           "linecolor": "white",
           "ticks": "",
           "title": {
            "standoff": 15
           },
           "zerolinecolor": "white",
           "zerolinewidth": 2
          },
          "yaxis": {
           "automargin": true,
           "gridcolor": "white",
           "linecolor": "white",
           "ticks": "",
           "title": {
            "standoff": 15
           },
           "zerolinecolor": "white",
           "zerolinewidth": 2
          }
         }
        },
        "xaxis": {
         "anchor": "y",
         "domain": [
          0,
          1
         ],
         "title": {
          "text": "quality"
         }
        },
        "yaxis": {
         "anchor": "x",
         "domain": [
          0,
          1
         ],
         "title": {
          "text": "count"
         }
        }
       }
      }
     },
     "metadata": {},
     "output_type": "display_data"
    }
   ],
   "source": [
    "# Histogram of 'quality' variable\n",
    "fig = px.histogram(df,x='quality')\n",
    "fig.show()"
   ]
  },
  {
   "cell_type": "code",
<<<<<<< HEAD
   "execution_count": 7,
=======
   "execution_count": 6,
>>>>>>> 92b4e39 (updating model exploration notebooks and added excel file for model tracking)
   "metadata": {},
   "outputs": [
    {
     "data": {
      "text/plain": [
       "<AxesSubplot:>"
      ]
     },
<<<<<<< HEAD
     "execution_count": 7,
=======
     "execution_count": 6,
>>>>>>> 92b4e39 (updating model exploration notebooks and added excel file for model tracking)
     "metadata": {},
     "output_type": "execute_result"
    },
    {
     "data": {
      "image/png": "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",
      "text/plain": [
       "<Figure size 1080x720 with 2 Axes>"
      ]
     },
     "metadata": {
      "needs_background": "light"
     },
     "output_type": "display_data"
    }
   ],
   "source": [
    "# Correlation Matrix\n",
    "corr = df.corr()\n",
    "plt.subplots(figsize=(15,10))\n",
    "sns.heatmap(corr, xticklabels=corr.columns, yticklabels=corr.columns, annot=True, cmap=sns.diverging_palette(220, 20, as_cmap=True))"
   ]
  },
  {
   "cell_type": "code",
<<<<<<< HEAD
   "execution_count": 8,
=======
   "execution_count": 38,
>>>>>>> 92b4e39 (updating model exploration notebooks and added excel file for model tracking)
   "metadata": {},
   "outputs": [],
   "source": [
    "# Create Classification version of target variable\n",
    "df['goodquality'] = [2 if x >= 7 else 1 if x==6 else 0 for x in df['quality']]\n",
    "\n",
    "# Separate feature variables and target variable\n",
    "X = df.drop(['quality','goodquality'], axis = 1)\n",
    "y = df['goodquality']"
   ]
  },
  {
   "cell_type": "code",
<<<<<<< HEAD
   "execution_count": 9,
=======
   "execution_count": 39,
>>>>>>> 92b4e39 (updating model exploration notebooks and added excel file for model tracking)
   "metadata": {},
   "outputs": [
    {
     "data": {
      "text/plain": [
<<<<<<< HEAD
       "0    1382\n",
       "1     217\n",
       "Name: goodquality, dtype: int64"
      ]
     },
     "execution_count": 9,
=======
       "0    744\n",
       "1    638\n",
       "2    217\n",
       "Name: goodquality, dtype: int64"
      ]
     },
     "execution_count": 39,
>>>>>>> 92b4e39 (updating model exploration notebooks and added excel file for model tracking)
     "metadata": {},
     "output_type": "execute_result"
    }
   ],
   "source": [
    "# See proportion of good vs bad wines\n",
    "df['goodquality'].value_counts()"
   ]
  },
  {
   "cell_type": "code",
<<<<<<< HEAD
   "execution_count": 10,
=======
   "execution_count": 40,
>>>>>>> 92b4e39 (updating model exploration notebooks and added excel file for model tracking)
   "metadata": {},
   "outputs": [],
   "source": [
    "# Normalize feature variables\n",
    "from sklearn.preprocessing import StandardScaler\n",
    "X_features = X\n",
    "X = StandardScaler().fit_transform(X)"
   ]
  },
  {
   "cell_type": "code",
<<<<<<< HEAD
   "execution_count": 11,
=======
   "execution_count": 41,
>>>>>>> 92b4e39 (updating model exploration notebooks and added excel file for model tracking)
   "metadata": {},
   "outputs": [],
   "source": [
    "# Splitting the data\n",
    "from sklearn.model_selection import train_test_split\n",
    "X_train, X_test, y_train, y_test = train_test_split(X, y, test_size=.25, random_state=0)"
   ]
  },
  {
   "cell_type": "markdown",
   "metadata": {},
   "source": [
    "# Modeling"
   ]
  },
  {
   "cell_type": "markdown",
   "metadata": {},
   "source": [
    "## Decision Tree"
   ]
  },
  {
   "cell_type": "code",
<<<<<<< HEAD
   "execution_count": 12,
=======
   "execution_count": 42,
>>>>>>> 92b4e39 (updating model exploration notebooks and added excel file for model tracking)
   "metadata": {},
   "outputs": [
    {
     "name": "stdout",
     "output_type": "stream",
     "text": [
      "              precision    recall  f1-score   support\n",
      "\n",
<<<<<<< HEAD
      "           0       0.96      0.92      0.94       355\n",
      "           1       0.53      0.73      0.62        45\n",
      "\n",
      "    accuracy                           0.90       400\n",
      "   macro avg       0.75      0.83      0.78       400\n",
      "weighted avg       0.92      0.90      0.90       400\n",
=======
      "           0       0.76      0.74      0.75       185\n",
      "           1       0.65      0.62      0.64       170\n",
      "           2       0.43      0.56      0.49        45\n",
      "\n",
      "    accuracy                           0.67       400\n",
      "   macro avg       0.62      0.64      0.62       400\n",
      "weighted avg       0.68      0.67      0.67       400\n",
>>>>>>> 92b4e39 (updating model exploration notebooks and added excel file for model tracking)
      "\n"
     ]
    }
   ],
   "source": [
    "from sklearn.metrics import classification_report\n",
    "from sklearn.tree import DecisionTreeClassifier\n",
    "\n",
    "model1 = DecisionTreeClassifier(random_state=1)\n",
    "model1.fit(X_train, y_train)\n",
    "y_pred1 = model1.predict(X_test)\n",
    "print(classification_report(y_test, y_pred1))"
   ]
  },
  {
   "cell_type": "markdown",
   "metadata": {},
   "source": [
<<<<<<< HEAD
    "Successful Replication"
   ]
  },
  {
   "cell_type": "markdown",
   "metadata": {},
   "source": [
    "## Linear Regression"
   ]
  },
  {
   "cell_type": "markdown",
   "metadata": {},
   "source": [
    "## SVM"
=======
    "## Logistic Regression"
   ]
  },
  {
   "cell_type": "code",
   "execution_count": 43,
   "metadata": {},
   "outputs": [
    {
     "name": "stdout",
     "output_type": "stream",
     "text": [
      "              precision    recall  f1-score   support\n",
      "\n",
      "           0       0.69      0.78      0.73       185\n",
      "           1       0.58      0.54      0.56       170\n",
      "           2       0.48      0.36      0.41        45\n",
      "\n",
      "    accuracy                           0.63       400\n",
      "   macro avg       0.59      0.56      0.57       400\n",
      "weighted avg       0.62      0.63      0.62       400\n",
      "\n"
     ]
    }
   ],
   "source": [
    "from sklearn.linear_model import LogisticRegression, LinearRegression, Ridge, Lasso, ElasticNet\n",
    "\n",
    "model6 = LogisticRegression(solver='liblinear', random_state=1).fit(X_train, y_train)\n",
    "y_pred6 = model6.predict(X_test)\n",
    "print(classification_report(y_test, y_pred6))"
>>>>>>> 92b4e39 (updating model exploration notebooks and added excel file for model tracking)
   ]
  },
  {
   "cell_type": "markdown",
   "metadata": {},
   "source": [
    "## Random Forest"
   ]
  },
  {
   "cell_type": "code",
<<<<<<< HEAD
   "execution_count": 13,
=======
   "execution_count": 44,
>>>>>>> 92b4e39 (updating model exploration notebooks and added excel file for model tracking)
   "metadata": {},
   "outputs": [
    {
     "name": "stdout",
     "output_type": "stream",
     "text": [
      "              precision    recall  f1-score   support\n",
      "\n",
<<<<<<< HEAD
      "           0       0.95      0.97      0.96       355\n",
      "           1       0.68      0.58      0.63        45\n",
      "\n",
      "    accuracy                           0.92       400\n",
      "   macro avg       0.82      0.77      0.79       400\n",
      "weighted avg       0.92      0.92      0.92       400\n",
=======
      "           0       0.79      0.77      0.78       185\n",
      "           1       0.68      0.69      0.69       170\n",
      "           2       0.62      0.64      0.63        45\n",
      "\n",
      "    accuracy                           0.72       400\n",
      "   macro avg       0.70      0.70      0.70       400\n",
      "weighted avg       0.72      0.72      0.72       400\n",
>>>>>>> 92b4e39 (updating model exploration notebooks and added excel file for model tracking)
      "\n"
     ]
    }
   ],
   "source": [
    "from sklearn.ensemble import RandomForestClassifier\n",
    "model2 = RandomForestClassifier(random_state=1)\n",
    "model2.fit(X_train, y_train)\n",
    "y_pred2 = model2.predict(X_test)\n",
    "print(classification_report(y_test, y_pred2))"
   ]
  },
  {
   "cell_type": "markdown",
   "metadata": {},
   "source": [
    "Successful Replication"
   ]
  },
  {
   "cell_type": "markdown",
   "metadata": {},
   "source": [
    "## AdaBoost"
   ]
  },
  {
   "cell_type": "code",
<<<<<<< HEAD
   "execution_count": 14,
=======
   "execution_count": 45,
>>>>>>> 92b4e39 (updating model exploration notebooks and added excel file for model tracking)
   "metadata": {},
   "outputs": [
    {
     "name": "stdout",
     "output_type": "stream",
     "text": [
      "              precision    recall  f1-score   support\n",
      "\n",
<<<<<<< HEAD
      "           0       0.94      0.94      0.94       355\n",
      "           1       0.51      0.49      0.50        45\n",
      "\n",
      "    accuracy                           0.89       400\n",
      "   macro avg       0.72      0.71      0.72       400\n",
      "weighted avg       0.89      0.89      0.89       400\n",
=======
      "           0       0.73      0.71      0.72       185\n",
      "           1       0.61      0.57      0.59       170\n",
      "           2       0.47      0.62      0.53        45\n",
      "\n",
      "    accuracy                           0.64       400\n",
      "   macro avg       0.60      0.64      0.61       400\n",
      "weighted avg       0.65      0.64      0.64       400\n",
>>>>>>> 92b4e39 (updating model exploration notebooks and added excel file for model tracking)
      "\n"
     ]
    }
   ],
   "source": [
    "from sklearn.ensemble import AdaBoostClassifier\n",
    "model3 = AdaBoostClassifier(random_state=1)\n",
    "model3.fit(X_train, y_train)\n",
    "y_pred3 = model3.predict(X_test)\n",
    "print(classification_report(y_test, y_pred3))"
   ]
  },
  {
   "cell_type": "markdown",
   "metadata": {},
   "source": [
    "Successful Replication"
   ]
  },
  {
   "cell_type": "markdown",
   "metadata": {},
   "source": [
    "## Gradient Boosting"
   ]
  },
  {
   "cell_type": "code",
<<<<<<< HEAD
   "execution_count": 15,
=======
   "execution_count": 47,
>>>>>>> 92b4e39 (updating model exploration notebooks and added excel file for model tracking)
   "metadata": {},
   "outputs": [
    {
     "name": "stdout",
     "output_type": "stream",
     "text": [
      "              precision    recall  f1-score   support\n",
      "\n",
<<<<<<< HEAD
      "           0       0.94      0.94      0.94       355\n",
      "           1       0.52      0.51      0.52        45\n",
      "\n",
      "    accuracy                           0.89       400\n",
      "   macro avg       0.73      0.73      0.73       400\n",
      "weighted avg       0.89      0.89      0.89       400\n",
=======
      "           0       0.73      0.75      0.74       185\n",
      "           1       0.63      0.60      0.61       170\n",
      "           2       0.50      0.53      0.52        45\n",
      "\n",
      "    accuracy                           0.66       400\n",
      "   macro avg       0.62      0.63      0.62       400\n",
      "weighted avg       0.66      0.66      0.66       400\n",
>>>>>>> 92b4e39 (updating model exploration notebooks and added excel file for model tracking)
      "\n"
     ]
    }
   ],
   "source": [
    "from sklearn.ensemble import GradientBoostingClassifier\n",
    "model4 = GradientBoostingClassifier(random_state=1)\n",
    "model4.fit(X_train, y_train)\n",
    "y_pred4 = model4.predict(X_test)\n",
    "print(classification_report(y_test, y_pred4))"
   ]
  },
  {
   "cell_type": "markdown",
   "metadata": {},
   "source": [
    "Successful Replication"
   ]
  },
  {
   "cell_type": "markdown",
   "metadata": {},
   "source": [
    "## XGBoost"
   ]
  },
  {
   "cell_type": "code",
<<<<<<< HEAD
   "execution_count": 16,
   "metadata": {},
   "outputs": [
    {
     "name": "stderr",
     "output_type": "stream",
     "text": [
      "/Users/Serena/anaconda3/envs/PythonData/lib/python3.6/site-packages/xgboost/sklearn.py:1146: UserWarning:\n",
      "\n",
      "The use of label encoder in XGBClassifier is deprecated and will be removed in a future release. To remove this warning, do the following: 1) Pass option use_label_encoder=False when constructing XGBClassifier object; and 2) Encode your labels (y) as integers starting with 0, i.e. 0, 1, 2, ..., [num_class - 1].\n",
      "\n"
     ]
    },
    {
     "name": "stdout",
     "output_type": "stream",
     "text": [
      "[20:35:12] WARNING: /Users/runner/miniforge3/conda-bld/xgboost-split_1631904775127/work/src/learner.cc:1095: Starting in XGBoost 1.3.0, the default evaluation metric used with the objective 'binary:logistic' was changed from 'error' to 'logloss'. Explicitly set eval_metric if you'd like to restore the old behavior.\n",
      "              precision    recall  f1-score   support\n",
      "\n",
      "           0       0.96      0.95      0.95       355\n",
      "           1       0.62      0.69      0.65        45\n",
      "\n",
      "    accuracy                           0.92       400\n",
      "   macro avg       0.79      0.82      0.80       400\n",
      "weighted avg       0.92      0.92      0.92       400\n",
=======
   "execution_count": 48,
   "metadata": {},
   "outputs": [
    {
     "name": "stdout",
     "output_type": "stream",
     "text": [
      "              precision    recall  f1-score   support\n",
      "\n",
      "           0       0.77      0.82      0.79       185\n",
      "           1       0.74      0.66      0.70       170\n",
      "           2       0.63      0.73      0.68        45\n",
      "\n",
      "    accuracy                           0.74       400\n",
      "   macro avg       0.72      0.74      0.72       400\n",
      "weighted avg       0.74      0.74      0.74       400\n",
>>>>>>> 92b4e39 (updating model exploration notebooks and added excel file for model tracking)
      "\n"
     ]
    }
   ],
   "source": [
    "import xgboost as xgb\n",
    "model5 = xgb.XGBClassifier(random_state=1)\n",
    "model5.fit(X_train, y_train)\n",
    "y_pred5 = model5.predict(X_test)\n",
    "print(classification_report(y_test, y_pred5))"
   ]
  },
  {
   "cell_type": "markdown",
   "metadata": {},
   "source": [
    "Successful Replication"
   ]
  },
  {
   "cell_type": "markdown",
   "metadata": {},
   "source": [
    "# Feature Importance"
   ]
  },
  {
   "cell_type": "markdown",
   "metadata": {},
   "source": [
    "## Random Forest"
   ]
  },
  {
   "cell_type": "code",
<<<<<<< HEAD
   "execution_count": 17,
=======
   "execution_count": 34,
>>>>>>> 92b4e39 (updating model exploration notebooks and added excel file for model tracking)
   "metadata": {},
   "outputs": [
    {
     "data": {
      "text/plain": [
       "<AxesSubplot:>"
      ]
     },
<<<<<<< HEAD
     "execution_count": 17,
=======
     "execution_count": 34,
>>>>>>> 92b4e39 (updating model exploration notebooks and added excel file for model tracking)
     "metadata": {},
     "output_type": "execute_result"
    },
    {
     "data": {
<<<<<<< HEAD
      "image/png": "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",
=======
      "image/png": "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",
>>>>>>> 92b4e39 (updating model exploration notebooks and added excel file for model tracking)
      "text/plain": [
       "<Figure size 720x720 with 1 Axes>"
      ]
     },
     "metadata": {
      "needs_background": "light"
     },
     "output_type": "display_data"
    }
   ],
   "source": [
    "feat_importances = pd.Series(model2.feature_importances_, index=X_features.columns)\n",
    "feat_importances.nlargest(25).plot(kind='barh',figsize=(10,10))"
   ]
  },
  {
   "cell_type": "markdown",
   "metadata": {},
   "source": [
    "## XGBoost"
   ]
  },
  {
   "cell_type": "code",
<<<<<<< HEAD
   "execution_count": 18,
=======
   "execution_count": 35,
>>>>>>> 92b4e39 (updating model exploration notebooks and added excel file for model tracking)
   "metadata": {},
   "outputs": [
    {
     "data": {
      "text/plain": [
       "<AxesSubplot:>"
      ]
     },
<<<<<<< HEAD
     "execution_count": 18,
=======
     "execution_count": 35,
>>>>>>> 92b4e39 (updating model exploration notebooks and added excel file for model tracking)
     "metadata": {},
     "output_type": "execute_result"
    },
    {
     "data": {
<<<<<<< HEAD
      "image/png": "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",
=======
      "image/png": "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",
>>>>>>> 92b4e39 (updating model exploration notebooks and added excel file for model tracking)
      "text/plain": [
       "<Figure size 720x720 with 1 Axes>"
      ]
     },
     "metadata": {
      "needs_background": "light"
     },
     "output_type": "display_data"
    }
   ],
   "source": [
    "feat_importances = pd.Series(model5.feature_importances_, index=X_features.columns)\n",
    "feat_importances.nlargest(25).plot(kind='barh',figsize=(10,10))"
   ]
  },
  {
   "cell_type": "markdown",
   "metadata": {},
   "source": [
    "## Comparing the Top 4 Features"
   ]
  },
  {
   "cell_type": "code",
<<<<<<< HEAD
   "execution_count": 19,
=======
   "execution_count": 36,
>>>>>>> 92b4e39 (updating model exploration notebooks and added excel file for model tracking)
   "metadata": {},
   "outputs": [
    {
     "data": {
      "text/html": [
       "<div>\n",
       "<style scoped>\n",
       "    .dataframe tbody tr th:only-of-type {\n",
       "        vertical-align: middle;\n",
       "    }\n",
       "\n",
       "    .dataframe tbody tr th {\n",
       "        vertical-align: top;\n",
       "    }\n",
       "\n",
       "    .dataframe thead th {\n",
       "        text-align: right;\n",
       "    }\n",
       "</style>\n",
       "<table border=\"1\" class=\"dataframe\">\n",
       "  <thead>\n",
       "    <tr style=\"text-align: right;\">\n",
       "      <th></th>\n",
<<<<<<< HEAD
       "      <th>fixed acidity</th>\n",
       "      <th>volatile acidity</th>\n",
       "      <th>citric acid</th>\n",
       "      <th>residual sugar</th>\n",
       "      <th>chlorides</th>\n",
       "      <th>free sulfur dioxide</th>\n",
       "      <th>total sulfur dioxide</th>\n",
       "      <th>density</th>\n",
       "      <th>pH</th>\n",
       "      <th>sulphates</th>\n",
       "      <th>alcohol</th>\n",
       "      <th>quality</th>\n",
       "      <th>goodquality</th>\n",
=======
       "      <th>alcohol</th>\n",
       "      <th>volatile acidity</th>\n",
       "      <th>sulphates</th>\n",
       "      <th>residual sugar</th>\n",
>>>>>>> 92b4e39 (updating model exploration notebooks and added excel file for model tracking)
       "    </tr>\n",
       "  </thead>\n",
       "  <tbody>\n",
       "    <tr>\n",
       "      <th>count</th>\n",
<<<<<<< HEAD
       "      <td>1382.000000</td>\n",
       "      <td>1382.000000</td>\n",
       "      <td>1382.000000</td>\n",
       "      <td>1382.000000</td>\n",
       "      <td>1382.000000</td>\n",
       "      <td>1382.000000</td>\n",
       "      <td>1382.000000</td>\n",
       "      <td>1382.000000</td>\n",
       "      <td>1382.000000</td>\n",
       "      <td>1382.000000</td>\n",
       "      <td>1382.000000</td>\n",
       "      <td>1382.000000</td>\n",
       "      <td>1382.0</td>\n",
       "    </tr>\n",
       "    <tr>\n",
       "      <th>mean</th>\n",
       "      <td>8.236831</td>\n",
       "      <td>0.547022</td>\n",
       "      <td>0.254407</td>\n",
       "      <td>2.512120</td>\n",
       "      <td>0.089281</td>\n",
       "      <td>16.172214</td>\n",
       "      <td>48.285818</td>\n",
       "      <td>0.996859</td>\n",
       "      <td>3.314616</td>\n",
       "      <td>0.644754</td>\n",
       "      <td>10.251037</td>\n",
       "      <td>5.408828</td>\n",
       "      <td>0.0</td>\n",
       "    </tr>\n",
       "    <tr>\n",
       "      <th>std</th>\n",
       "      <td>1.682726</td>\n",
       "      <td>0.176337</td>\n",
       "      <td>0.189665</td>\n",
       "      <td>1.415778</td>\n",
       "      <td>0.049113</td>\n",
       "      <td>10.467685</td>\n",
       "      <td>32.585604</td>\n",
       "      <td>0.001808</td>\n",
       "      <td>0.154135</td>\n",
       "      <td>0.170629</td>\n",
       "      <td>0.969664</td>\n",
       "      <td>0.601719</td>\n",
       "      <td>0.0</td>\n",
       "    </tr>\n",
       "    <tr>\n",
       "      <th>min</th>\n",
       "      <td>4.600000</td>\n",
       "      <td>0.160000</td>\n",
       "      <td>0.000000</td>\n",
       "      <td>0.900000</td>\n",
       "      <td>0.034000</td>\n",
       "      <td>1.000000</td>\n",
       "      <td>6.000000</td>\n",
       "      <td>0.990070</td>\n",
       "      <td>2.740000</td>\n",
       "      <td>0.330000</td>\n",
       "      <td>8.400000</td>\n",
       "      <td>3.000000</td>\n",
       "      <td>0.0</td>\n",
       "    </tr>\n",
       "    <tr>\n",
       "      <th>25%</th>\n",
       "      <td>7.100000</td>\n",
       "      <td>0.420000</td>\n",
       "      <td>0.082500</td>\n",
       "      <td>1.900000</td>\n",
       "      <td>0.071000</td>\n",
       "      <td>8.000000</td>\n",
       "      <td>23.000000</td>\n",
       "      <td>0.995785</td>\n",
       "      <td>3.210000</td>\n",
       "      <td>0.540000</td>\n",
       "      <td>9.500000</td>\n",
       "      <td>5.000000</td>\n",
       "      <td>0.0</td>\n",
       "    </tr>\n",
       "    <tr>\n",
       "      <th>50%</th>\n",
       "      <td>7.800000</td>\n",
       "      <td>0.540000</td>\n",
       "      <td>0.240000</td>\n",
       "      <td>2.200000</td>\n",
       "      <td>0.080000</td>\n",
       "      <td>14.000000</td>\n",
       "      <td>39.500000</td>\n",
       "      <td>0.996800</td>\n",
       "      <td>3.310000</td>\n",
       "      <td>0.600000</td>\n",
       "      <td>10.000000</td>\n",
       "      <td>5.000000</td>\n",
       "      <td>0.0</td>\n",
       "    </tr>\n",
       "    <tr>\n",
       "      <th>75%</th>\n",
       "      <td>9.100000</td>\n",
       "      <td>0.650000</td>\n",
       "      <td>0.400000</td>\n",
       "      <td>2.600000</td>\n",
       "      <td>0.091000</td>\n",
       "      <td>22.000000</td>\n",
       "      <td>65.000000</td>\n",
       "      <td>0.997900</td>\n",
       "      <td>3.410000</td>\n",
       "      <td>0.700000</td>\n",
       "      <td>10.900000</td>\n",
       "      <td>6.000000</td>\n",
       "      <td>0.0</td>\n",
       "    </tr>\n",
       "    <tr>\n",
       "      <th>max</th>\n",
       "      <td>15.900000</td>\n",
       "      <td>1.580000</td>\n",
       "      <td>1.000000</td>\n",
       "      <td>15.500000</td>\n",
       "      <td>0.611000</td>\n",
       "      <td>72.000000</td>\n",
       "      <td>165.000000</td>\n",
       "      <td>1.003690</td>\n",
       "      <td>4.010000</td>\n",
       "      <td>2.000000</td>\n",
       "      <td>14.900000</td>\n",
       "      <td>6.000000</td>\n",
       "      <td>0.0</td>\n",
=======
       "      <td>855.000000</td>\n",
       "      <td>855.000000</td>\n",
       "      <td>855.000000</td>\n",
       "      <td>855.000000</td>\n",
       "    </tr>\n",
       "    <tr>\n",
       "      <th>mean</th>\n",
       "      <td>10.855029</td>\n",
       "      <td>0.474146</td>\n",
       "      <td>0.692620</td>\n",
       "      <td>2.535965</td>\n",
       "    </tr>\n",
       "    <tr>\n",
       "      <th>std</th>\n",
       "      <td>1.106109</td>\n",
       "      <td>0.161999</td>\n",
       "      <td>0.155558</td>\n",
       "      <td>1.424835</td>\n",
       "    </tr>\n",
       "    <tr>\n",
       "      <th>min</th>\n",
       "      <td>8.400000</td>\n",
       "      <td>0.120000</td>\n",
       "      <td>0.390000</td>\n",
       "      <td>0.900000</td>\n",
       "    </tr>\n",
       "    <tr>\n",
       "      <th>25%</th>\n",
       "      <td>10.000000</td>\n",
       "      <td>0.350000</td>\n",
       "      <td>0.590000</td>\n",
       "      <td>1.900000</td>\n",
       "    </tr>\n",
       "    <tr>\n",
       "      <th>50%</th>\n",
       "      <td>10.800000</td>\n",
       "      <td>0.460000</td>\n",
       "      <td>0.660000</td>\n",
       "      <td>2.200000</td>\n",
       "    </tr>\n",
       "    <tr>\n",
       "      <th>75%</th>\n",
       "      <td>11.700000</td>\n",
       "      <td>0.580000</td>\n",
       "      <td>0.770000</td>\n",
       "      <td>2.600000</td>\n",
       "    </tr>\n",
       "    <tr>\n",
       "      <th>max</th>\n",
       "      <td>14.000000</td>\n",
       "      <td>1.040000</td>\n",
       "      <td>1.950000</td>\n",
       "      <td>15.400000</td>\n",
>>>>>>> 92b4e39 (updating model exploration notebooks and added excel file for model tracking)
       "    </tr>\n",
       "  </tbody>\n",
       "</table>\n",
       "</div>"
      ],
      "text/plain": [
<<<<<<< HEAD
       "       fixed acidity  volatile acidity  citric acid  residual sugar  \\\n",
       "count    1382.000000       1382.000000  1382.000000     1382.000000   \n",
       "mean        8.236831          0.547022     0.254407        2.512120   \n",
       "std         1.682726          0.176337     0.189665        1.415778   \n",
       "min         4.600000          0.160000     0.000000        0.900000   \n",
       "25%         7.100000          0.420000     0.082500        1.900000   \n",
       "50%         7.800000          0.540000     0.240000        2.200000   \n",
       "75%         9.100000          0.650000     0.400000        2.600000   \n",
       "max        15.900000          1.580000     1.000000       15.500000   \n",
       "\n",
       "         chlorides  free sulfur dioxide  total sulfur dioxide      density  \\\n",
       "count  1382.000000          1382.000000           1382.000000  1382.000000   \n",
       "mean      0.089281            16.172214             48.285818     0.996859   \n",
       "std       0.049113            10.467685             32.585604     0.001808   \n",
       "min       0.034000             1.000000              6.000000     0.990070   \n",
       "25%       0.071000             8.000000             23.000000     0.995785   \n",
       "50%       0.080000            14.000000             39.500000     0.996800   \n",
       "75%       0.091000            22.000000             65.000000     0.997900   \n",
       "max       0.611000            72.000000            165.000000     1.003690   \n",
       "\n",
       "                pH    sulphates      alcohol      quality  goodquality  \n",
       "count  1382.000000  1382.000000  1382.000000  1382.000000       1382.0  \n",
       "mean      3.314616     0.644754    10.251037     5.408828          0.0  \n",
       "std       0.154135     0.170629     0.969664     0.601719          0.0  \n",
       "min       2.740000     0.330000     8.400000     3.000000          0.0  \n",
       "25%       3.210000     0.540000     9.500000     5.000000          0.0  \n",
       "50%       3.310000     0.600000    10.000000     5.000000          0.0  \n",
       "75%       3.410000     0.700000    10.900000     6.000000          0.0  \n",
       "max       4.010000     2.000000    14.900000     6.000000          0.0  "
      ]
     },
     "execution_count": 19,
=======
       "          alcohol  volatile acidity   sulphates  residual sugar\n",
       "count  855.000000        855.000000  855.000000      855.000000\n",
       "mean    10.855029          0.474146    0.692620        2.535965\n",
       "std      1.106109          0.161999    0.155558        1.424835\n",
       "min      8.400000          0.120000    0.390000        0.900000\n",
       "25%     10.000000          0.350000    0.590000        1.900000\n",
       "50%     10.800000          0.460000    0.660000        2.200000\n",
       "75%     11.700000          0.580000    0.770000        2.600000\n",
       "max     14.000000          1.040000    1.950000       15.400000"
      ]
     },
     "execution_count": 36,
>>>>>>> 92b4e39 (updating model exploration notebooks and added excel file for model tracking)
     "metadata": {},
     "output_type": "execute_result"
    }
   ],
   "source": [
    "# Filtering df for only good quality\n",
    "df_temp = df[df['goodquality']==1]\n",
    "df_temp = df_temp[['alcohol', 'volatile acidity', 'sulphates', 'residual sugar']]\n",
    "df_temp.describe()"
   ]
  },
  {
   "cell_type": "code",
   "execution_count": 37,
   "metadata": {},
   "outputs": [
    {
     "data": {
      "text/html": [
       "<div>\n",
       "<style scoped>\n",
       "    .dataframe tbody tr th:only-of-type {\n",
       "        vertical-align: middle;\n",
       "    }\n",
       "\n",
       "    .dataframe tbody tr th {\n",
       "        vertical-align: top;\n",
       "    }\n",
       "\n",
       "    .dataframe thead th {\n",
       "        text-align: right;\n",
       "    }\n",
       "</style>\n",
       "<table border=\"1\" class=\"dataframe\">\n",
       "  <thead>\n",
       "    <tr style=\"text-align: right;\">\n",
       "      <th></th>\n",
       "      <th>alcohol</th>\n",
       "      <th>volatile acidity</th>\n",
       "      <th>sulphates</th>\n",
       "      <th>residual sugar</th>\n",
       "    </tr>\n",
       "  </thead>\n",
       "  <tbody>\n",
       "    <tr>\n",
       "      <th>count</th>\n",
       "      <td>744.000000</td>\n",
       "      <td>744.000000</td>\n",
       "      <td>744.000000</td>\n",
       "      <td>744.00000</td>\n",
       "    </tr>\n",
       "    <tr>\n",
       "      <th>mean</th>\n",
       "      <td>9.926478</td>\n",
       "      <td>0.589503</td>\n",
       "      <td>0.618535</td>\n",
       "      <td>2.54207</td>\n",
       "    </tr>\n",
       "    <tr>\n",
       "      <th>std</th>\n",
       "      <td>0.758007</td>\n",
       "      <td>0.177956</td>\n",
       "      <td>0.176194</td>\n",
       "      <td>1.39355</td>\n",
       "    </tr>\n",
       "    <tr>\n",
       "      <th>min</th>\n",
       "      <td>8.400000</td>\n",
       "      <td>0.180000</td>\n",
       "      <td>0.330000</td>\n",
       "      <td>1.20000</td>\n",
       "    </tr>\n",
       "    <tr>\n",
       "      <th>25%</th>\n",
       "      <td>9.400000</td>\n",
       "      <td>0.460000</td>\n",
       "      <td>0.520000</td>\n",
       "      <td>1.90000</td>\n",
       "    </tr>\n",
       "    <tr>\n",
       "      <th>50%</th>\n",
       "      <td>9.700000</td>\n",
       "      <td>0.590000</td>\n",
       "      <td>0.580000</td>\n",
       "      <td>2.20000</td>\n",
       "    </tr>\n",
       "    <tr>\n",
       "      <th>75%</th>\n",
       "      <td>10.300000</td>\n",
       "      <td>0.680000</td>\n",
       "      <td>0.650000</td>\n",
       "      <td>2.60000</td>\n",
       "    </tr>\n",
       "    <tr>\n",
       "      <th>max</th>\n",
       "      <td>14.900000</td>\n",
       "      <td>1.580000</td>\n",
       "      <td>2.000000</td>\n",
       "      <td>15.50000</td>\n",
       "    </tr>\n",
       "  </tbody>\n",
       "</table>\n",
       "</div>"
      ],
      "text/plain": [
       "          alcohol  volatile acidity   sulphates  residual sugar\n",
       "count  744.000000        744.000000  744.000000       744.00000\n",
       "mean     9.926478          0.589503    0.618535         2.54207\n",
       "std      0.758007          0.177956    0.176194         1.39355\n",
       "min      8.400000          0.180000    0.330000         1.20000\n",
       "25%      9.400000          0.460000    0.520000         1.90000\n",
       "50%      9.700000          0.590000    0.580000         2.20000\n",
       "75%     10.300000          0.680000    0.650000         2.60000\n",
       "max     14.900000          1.580000    2.000000        15.50000"
      ]
     },
     "execution_count": 37,
     "metadata": {},
     "output_type": "execute_result"
    }
   ],
   "source": [
    "# Filtering df for only bad quality\n",
    "df_temp2 = df[df['goodquality']==0]\n",
    "df_temp2 = df_temp2[['alcohol', 'volatile acidity', 'sulphates', 'residual sugar']]\n",
    "df_temp2.describe()"
   ]
  }
 ],
 "metadata": {
  "interpreter": {
   "hash": "d0dfd7268789880de84d768d68ff31902ba531fbeb8e3be281708f0089ada016"
  },
  "kernelspec": {
   "display_name": "Python 3.6.13 ('PythonData')",
   "language": "python",
   "name": "python3"
  },
  "language_info": {
   "codemirror_mode": {
    "name": "ipython",
    "version": 3
   },
   "file_extension": ".py",
   "mimetype": "text/x-python",
   "name": "python",
   "nbconvert_exporter": "python",
   "pygments_lexer": "ipython3",
   "version": "3.6.13"
  },
  "orig_nbformat": 4
 },
 "nbformat": 4,
 "nbformat_minor": 2
}
