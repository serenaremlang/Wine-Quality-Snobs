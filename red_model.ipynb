{
 "cells": [
  {
   "cell_type": "markdown",
   "metadata": {},
   "source": [
    "## Set-Up"
   ]
  },
  {
   "cell_type": "code",
   "execution_count": 2,
   "metadata": {},
   "outputs": [],
   "source": [
    "import numpy as np\n",
    "import pandas as pd\n",
    "from sqlalchemy import create_engine, inspect, func"
   ]
  },
  {
   "cell_type": "markdown",
   "metadata": {},
   "source": []
  },
  {
   "cell_type": "code",
   "execution_count": 3,
   "metadata": {},
   "outputs": [],
   "source": [
    "# Create an engine for the `wine_db.sqlite` database\n",
    "engine = create_engine(\"sqlite:///Resources/wine_data.db\")"
   ]
  },
  {
   "cell_type": "code",
   "execution_count": 4,
   "metadata": {},
   "outputs": [
    {
     "data": {
      "text/plain": [
       "['winequalityRed', 'winequalityWhite']"
      ]
     },
     "execution_count": 4,
     "metadata": {},
     "output_type": "execute_result"
    }
   ],
   "source": [
    "inspector = inspect(engine)\n",
    "inspector.get_table_names()"
   ]
  },
  {
   "cell_type": "code",
   "execution_count": 5,
   "metadata": {},
   "outputs": [],
   "source": [
    "red_wine = engine.execute('SELECT * FROM winequalityRed').fetchall()"
   ]
  },
  {
   "cell_type": "code",
   "execution_count": 6,
   "metadata": {},
   "outputs": [],
   "source": [
    "wine_red_df = pd.DataFrame(red_wine, columns=[\"wine_id\",\"fixed acidity\",\"volatile acidity\", \"citric acid\",\n",
    "                                \"residual sugar\",\"chlorides\",\"free sulfur dioxide\",\"total sulfur dioxide\",\n",
    "                                \"density\",\"pH\",\"sulphates\",\"alcohol\",\"quality\"])"
   ]
  },
  {
   "cell_type": "code",
   "execution_count": 10,
   "metadata": {},
   "outputs": [],
   "source": [
    "# Separate feature variables and target variable\n",
    "X = wine_red_df.drop(['quality','wine_id'], axis = 1)\n",
    "y = wine_red_df['quality']"
   ]
  },
  {
   "cell_type": "code",
   "execution_count": 12,
   "metadata": {},
   "outputs": [],
   "source": [
    "# Normalize feature variables\n",
    "from sklearn.preprocessing import StandardScaler\n",
    "X_features = X\n",
    "scalar = StandardScaler().fit(X)\n",
    "X = StandardScaler().fit_transform(X)"
   ]
  },
  {
   "cell_type": "code",
   "execution_count": 13,
   "metadata": {},
   "outputs": [],
   "source": [
    "# Splitting the data\n",
    "from sklearn.model_selection import train_test_split\n",
    "X_train, X_test, y_train, y_test = train_test_split(X, y, test_size=.25, random_state=0)"
   ]
  },
  {
   "cell_type": "code",
   "execution_count": 14,
   "metadata": {},
   "outputs": [
    {
     "name": "stdout",
     "output_type": "stream",
     "text": [
      "              precision    recall  f1-score   support\n",
      "\n",
      "           0       0.77      0.82      0.79       185\n",
      "           1       0.74      0.66      0.70       170\n",
      "           2       0.63      0.73      0.68        45\n",
      "\n",
      "    accuracy                           0.74       400\n",
      "   macro avg       0.72      0.74      0.72       400\n",
      "weighted avg       0.74      0.74      0.74       400\n",
      "\n"
     ]
    }
   ],
   "source": [
    "from sklearn.metrics import classification_report\n",
    "import xgboost as xgb\n",
    "model = xgb.XGBClassifier(random_state=1)\n",
    "model.fit(X_train, y_train)\n",
    "y_pred = model.predict(X_test)\n",
    "print(classification_report(y_test, y_pred))"
   ]
  },
  {
   "cell_type": "code",
   "execution_count": 15,
   "metadata": {},
   "outputs": [],
   "source": [
    "import pickle\n",
    "pkl_filename = \"red_model.pkl\"\n",
    "with open(pkl_filename, 'wb') as file:\n",
    "    pickle.dump(model,file)\n",
    "\n",
    "scaler = StandardScaler().fit(X)\n",
    "pkl_scaled_filename = 'scaler_red.pkl'\n",
    "with open(pkl_scaled_filename, 'wb') as file:\n",
    "    pickle.dump(scaler,file)"
   ]
  },
  {
   "cell_type": "code",
   "execution_count": 19,
   "metadata": {},
   "outputs": [],
   "source": [
    "# Function to Load and run model with input scores\n",
    "\n",
    "def red_model(user_input_array):\n",
    "    import pickle\n",
    "    #Load Model\n",
    "    with open('red_model.pkl', 'rb') as file:\n",
    "        red_model = pickle.load(file)\n",
    "    with open('scaler_red.pkl', 'rb') as file:\n",
    "        scaler = pickle.load(file)\n",
    "\n",
    "    X = user_input_array.reshape(1,-1)\n",
    "    X_scaled = scaler.transform(X)\n",
    "\n",
    "    # Calculate Wine quality\n",
    "    y_pred_red = red_model.predict(X_scaled)\n",
    "\n",
    "    return y_pred_red"
   ]
  },
  {
   "cell_type": "code",
   "execution_count": 20,
   "metadata": {},
   "outputs": [
    {
     "name": "stdout",
     "output_type": "stream",
     "text": [
      "[-0.1261883   1.63225386 -1.39147228  1.10763304  0.16011403 -1.03997712\n",
      " -0.98731203  0.9504846   0.3167512  -0.75624575 -0.77251161] 0\n"
     ]
    }
   ],
   "source": [
    "test = X_test[1]\n",
    "answer = y[1]\n",
    "print(test, answer)"
   ]
  },
  {
   "cell_type": "code",
   "execution_count": 21,
   "metadata": {},
   "outputs": [
    {
     "data": {
      "text/plain": [
       "array([0])"
      ]
     },
     "execution_count": 21,
     "metadata": {},
     "output_type": "execute_result"
    }
   ],
   "source": [
    "red_model(test)"
   ]
  }
 ],
 "metadata": {
  "interpreter": {
   "hash": "a5387b9da968551e43e0ccab31c37bebadc093c630309dcd510e17231b5b064a"
  },
  "kernelspec": {
   "display_name": "Python 3.6.13 64-bit ('PythonData': conda)",
   "language": "python",
   "name": "python3"
  },
  "language_info": {
   "codemirror_mode": {
    "name": "ipython",
    "version": 3
   },
   "file_extension": ".py",
   "mimetype": "text/x-python",
   "name": "python",
   "nbconvert_exporter": "python",
   "pygments_lexer": "ipython3",
   "version": "3.6.13"
  },
  "orig_nbformat": 4
 },
 "nbformat": 4,
 "nbformat_minor": 2
}
